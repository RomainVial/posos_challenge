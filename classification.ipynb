{
 "cells": [
  {
   "cell_type": "code",
   "execution_count": null,
   "metadata": {
    "collapsed": true
   },
   "outputs": [],
   "source": [
    "import spacy\n",
    "import numpy as np\n",
    "import pandas as pd\n",
    "import pickle as pkl\n",
    "import xgboost as xgb\n",
    "from sklearn.svm import SVC\n",
    "from sklearn.metrics import accuracy_score\n",
    "from sklearn.ensemble import RandomForestClassifier\n",
    "from sklearn.feature_extraction.text import TfidfTransformer, CountVectorizer\n",
    "\n",
    "nlp = spacy.load('fr')\n",
    "\n",
    "seed = 777"
   ]
  },
  {
   "cell_type": "markdown",
   "metadata": {},
   "source": [
    "# Load data"
   ]
  },
  {
   "cell_type": "code",
   "execution_count": null,
   "metadata": {
    "collapsed": true
   },
   "outputs": [],
   "source": [
    "data = pkl.load(open('data/corpus.pkl', 'r'))\n",
    "features = 'raw_texts'\n",
    "nb_train = 6400\n",
    "\n",
    "train_df = pd.DataFrame({'labels':data['train']['labels'], \n",
    "                         'features':data['train'][features]}).sample(frac=1., random_state=seed)\n",
    "\n",
    "train_feats = train_df['features'][:nb_train]\n",
    "train_labels = train_df['labels'][:nb_train].astype(int)\n",
    "\n",
    "val_feats = train_df['features'][nb_train:]\n",
    "val_labels = train_df['labels'][nb_train:].astype(int)\n",
    "\n",
    "test_feats = data['test'][features]"
   ]
  },
  {
   "cell_type": "markdown",
   "metadata": {},
   "source": [
    "# Build tokenizer"
   ]
  },
  {
   "cell_type": "code",
   "execution_count": null,
   "metadata": {
    "collapsed": true
   },
   "outputs": [],
   "source": [
    "def tokenizer(text, rm_stop_words=False, rm_punct=False, lemmatize=False):\n",
    "    tokens = nlp(text)\n",
    "    tokens = [token for token in tokens if not token.is_space]\n",
    "    \n",
    "    if rm_stop_words:\n",
    "        tokens = [token for token in tokens if not token.is_stop]\n",
    "    if rm_punct:\n",
    "        tokens = [token for token in tokens if not token.is_punct]\n",
    "    if lemmatize:\n",
    "        return [token.lemma_ for token in tokens]\n",
    "    \n",
    "    return [token.lower_ for token in tokens]"
   ]
  },
  {
   "cell_type": "code",
   "execution_count": null,
   "metadata": {},
   "outputs": [],
   "source": [
    "text = train_feats.sample(1).values[0]\n",
    "print text\n",
    "print tokenizer(text, rm_punct=True, rm_stop_words=False, lemmatize=True)"
   ]
  },
  {
   "cell_type": "markdown",
   "metadata": {},
   "source": [
    "# Compute tfidf features"
   ]
  },
  {
   "cell_type": "code",
   "execution_count": null,
   "metadata": {
    "collapsed": true
   },
   "outputs": [],
   "source": [
    "bow = CountVectorizer(analyzer=lambda s: tokenizer(s, rm_punct=True, rm_stop_words=False, lemmatize=True),\n",
    "                      min_df=3)\n",
    "train_bow_feats = bow.fit_transform(train_feats)\n",
    "val_bow_feats = bow.transform(val_feats)"
   ]
  },
  {
   "cell_type": "code",
   "execution_count": null,
   "metadata": {
    "collapsed": true
   },
   "outputs": [],
   "source": [
    "tfidf = TfidfTransformer()\n",
    "train_tfidf_feats = tfidf.fit_transform(train_bow_feats)\n",
    "val_tfidf_feats = tfidf.transform(val_bow_feats)"
   ]
  },
  {
   "cell_type": "markdown",
   "metadata": {},
   "source": [
    "# SVM"
   ]
  },
  {
   "cell_type": "code",
   "execution_count": null,
   "metadata": {},
   "outputs": [],
   "source": [
    "svc = SVC(kernel='linear', class_weight=None, C=1., probability=True).fit(train_tfidf_feats, train_labels)\n",
    "print 'Train accuracy', svc.score(train_tfidf_feats, train_labels)\n",
    "print 'Val accuracy', svc.score(val_tfidf_feats, val_labels)"
   ]
  },
  {
   "cell_type": "markdown",
   "metadata": {},
   "source": [
    "# Random Forest"
   ]
  },
  {
   "cell_type": "code",
   "execution_count": null,
   "metadata": {},
   "outputs": [],
   "source": [
    "rf = RandomForestClassifier(n_estimators=75, class_weight=None).fit(train_tfidf_feats, train_labels)\n",
    "print 'Train accuracy', rf.score(train_tfidf_feats, train_labels)\n",
    "print 'Val accuracy', rf.score(val_tfidf_feats, val_labels)"
   ]
  },
  {
   "cell_type": "markdown",
   "metadata": {},
   "source": [
    "# XGBoost"
   ]
  },
  {
   "cell_type": "code",
   "execution_count": null,
   "metadata": {
    "collapsed": true
   },
   "outputs": [],
   "source": [
    "parameters = {'nthread':4, #when use hyperthread, xgboost may become slower\n",
    "              'objective':'multi:softprob',\n",
    "              'learning_rate': 0.3, #so called `eta` value\n",
    "              'max_depth': 6,\n",
    "              'silent': 1,\n",
    "              'n_estimators':100,\n",
    "             }"
   ]
  },
  {
   "cell_type": "code",
   "execution_count": null,
   "metadata": {
    "scrolled": false
   },
   "outputs": [],
   "source": [
    "xgb_model = xgb.XGBClassifier(**parameters)\n",
    "xgb_model.fit(train_tfidf_feats, train_labels, eval_set=[(val_tfidf_feats, val_labels)], verbose=1)"
   ]
  },
  {
   "cell_type": "code",
   "execution_count": null,
   "metadata": {},
   "outputs": [],
   "source": [
    "print 'Val accuracy', xgb_model.score(val_tfidf_feats, val_labels)"
   ]
  },
  {
   "cell_type": "markdown",
   "metadata": {},
   "source": [
    "# Ensemble"
   ]
  },
  {
   "cell_type": "code",
   "execution_count": null,
   "metadata": {},
   "outputs": [],
   "source": [
    "ensemble = np.argmax(0.7*svc.predict_proba(val_tfidf_feats) + \n",
    "                     0.1*rf.predict_proba(val_tfidf_feats) +\n",
    "                     0.5*xgb_model.predict_proba(val_tfidf_feats), axis=1)\n",
    "print 'Val accuracy', accuracy_score(ensemble, val_labels)"
   ]
  },
  {
   "cell_type": "markdown",
   "metadata": {},
   "source": [
    "# Output test predictions"
   ]
  },
  {
   "cell_type": "code",
   "execution_count": null,
   "metadata": {
    "collapsed": true
   },
   "outputs": [],
   "source": [
    "test_bow_feats = bow.transform(test_feats)\n",
    "test_tfidf_feats= tfidf.transform(test_bow_feats)\n",
    "test_labels = np.argmax(0.7*svc.predict_proba(test_tfidf_feats) + \n",
    "                     0.1*rf.predict_proba(test_tfidf_feats) +\n",
    "                     0.5*xgb_model.predict_proba(test_tfidf_feats), axis=1)"
   ]
  },
  {
   "cell_type": "code",
   "execution_count": null,
   "metadata": {
    "collapsed": true
   },
   "outputs": [],
   "source": [
    "import csv\n",
    "\n",
    "filename = 'svm_rf_xgb_ensemble.csv'\n",
    "with open('output/{}'.format(filename), 'w') as csvfile:\n",
    "    writer = csv.writer(csvfile, delimiter=';')\n",
    "    writer.writerow(['ID', 'intention'])\n",
    "    for idx, label in enumerate(test_labels):\n",
    "        writer.writerow([idx+8028, label])"
   ]
  },
  {
   "cell_type": "code",
   "execution_count": null,
   "metadata": {
    "collapsed": true
   },
   "outputs": [],
   "source": []
  }
 ],
 "metadata": {
  "kernelspec": {
   "display_name": "Python 2",
   "language": "python",
   "name": "python2"
  },
  "language_info": {
   "codemirror_mode": {
    "name": "ipython",
    "version": 2
   },
   "file_extension": ".py",
   "mimetype": "text/x-python",
   "name": "python",
   "nbconvert_exporter": "python",
   "pygments_lexer": "ipython2",
   "version": "2.7.12"
  }
 },
 "nbformat": 4,
 "nbformat_minor": 2
}
