{
 "cells": [
  {
   "cell_type": "code",
   "execution_count": 1,
   "metadata": {
    "collapsed": true
   },
   "outputs": [],
   "source": [
    "%matplotlib inline\n",
    "import spacy\n",
    "import numpy as np\n",
    "import pandas as pd\n",
    "import pickle as pkl\n",
    "import xgboost as xgb\n",
    "from scipy import sparse\n",
    "from sklearn.svm import SVC\n",
    "from sklearn.metrics import accuracy_score\n",
    "from sklearn.ensemble import RandomForestClassifier\n",
    "from sklearn.decomposition import LatentDirichletAllocation\n",
    "from sklearn.feature_extraction.text import TfidfTransformer, CountVectorizer\n",
    "\n",
    "nlp = spacy.load('fr')\n",
    "\n",
    "seed = 777"
   ]
  },
  {
   "cell_type": "code",
   "execution_count": 2,
   "metadata": {
    "collapsed": true
   },
   "outputs": [],
   "source": [
    "import itertools\n",
    "import matplotlib.pyplot as plt\n",
    "from sklearn.metrics import confusion_matrix\n",
    "\n",
    "def print_confusion_matrix(clf, features, labels):\n",
    "    cm = confusion_matrix(labels, clf.predict(features))\n",
    "    print cm\n",
    "\n",
    "    title = ''\n",
    "    classes = [i for i in range(np.amax(labels) + 1)]\n",
    "    cmap=plt.cm.Blues\n",
    "    normalize = True\n",
    "\n",
    "    if normalize:\n",
    "        cm = cm.astype('float') / cm.sum(axis=1)[:, np.newaxis]\n",
    "        \n",
    "    plt.figure()\n",
    "    plt.imshow(cm, interpolation='nearest', cmap=cmap)\n",
    "    plt.title(title)\n",
    "    plt.colorbar()\n",
    "    tick_marks = np.arange(len(classes))\n",
    "    plt.xticks(tick_marks, classes, rotation=45)\n",
    "    plt.yticks(tick_marks, classes)\n",
    "\n",
    "    plt.tight_layout()\n",
    "    plt.ylabel('True label')\n",
    "    plt.xlabel('Predicted label')\n",
    "    plt.show()\n",
    "    plt.close()"
   ]
  },
  {
   "cell_type": "markdown",
   "metadata": {},
   "source": [
    "# Load data"
   ]
  },
  {
   "cell_type": "code",
   "execution_count": 3,
   "metadata": {},
   "outputs": [],
   "source": [
    "def count_med(data, split):\n",
    "    count = np.zeros((len(data[split]['texts_with_med']), ))\n",
    "    for idx, line in enumerate(data[split]['texts_with_med']):\n",
    "        count[idx] = line.count('MED')\n",
    "    return count"
   ]
  },
  {
   "cell_type": "code",
   "execution_count": 4,
   "metadata": {},
   "outputs": [],
   "source": [
    "data = pkl.load(open('data/corpus.pkl', 'r'))\n",
    "features = 'raw_texts'\n",
    "nb_train = 6400\n",
    "\n",
    "train_df = pd.DataFrame({'labels':data['train']['labels'], \n",
    "                         'features':data['train'][features],\n",
    "                         'count_med':count_med(data, 'train')}).sample(frac=1., random_state=seed)\n",
    "\n",
    "train_feats = train_df['features'][:nb_train]\n",
    "train_labels = train_df['labels'][:nb_train].astype(int)\n",
    "train_med = train_df['count_med'][:nb_train]\n",
    "\n",
    "val_feats = train_df['features'][nb_train:]\n",
    "val_labels = train_df['labels'][nb_train:].astype(int)\n",
    "val_med = train_df['count_med'][nb_train:]\n",
    "\n",
    "test_feats = data['test'][features]\n",
    "test_med = count_med(data, 'test')"
   ]
  },
  {
   "cell_type": "markdown",
   "metadata": {},
   "source": [
    "# Build tokenizer"
   ]
  },
  {
   "cell_type": "code",
   "execution_count": 5,
   "metadata": {
    "collapsed": true
   },
   "outputs": [],
   "source": [
    "def tokenizer(text, rm_stop_words=False, rm_punct=False, lemmatize=False):\n",
    "    tokens = nlp(text)\n",
    "    tokens = [token for token in tokens if not token.is_space]\n",
    "    \n",
    "    if rm_stop_words:\n",
    "        tokens = [token for token in tokens if not token.is_stop]\n",
    "    if rm_punct:\n",
    "        tokens = [token for token in tokens if not token.is_punct]\n",
    "    if lemmatize:\n",
    "        return [token.lemma_ for token in tokens]\n",
    "    \n",
    "    return [token.lower_ for token in tokens]"
   ]
  },
  {
   "cell_type": "code",
   "execution_count": 6,
   "metadata": {},
   "outputs": [
    {
     "name": "stdout",
     "output_type": "stream",
     "text": [
      "peut on faire le vaccin tetanos, dt polio et hepatite a en meme temps ?\n",
      "[u'peut', u'on', u'faire', u'le', u'vaccin', u'tetanos', u'dt', u'polio', u'et', u'hepatite', u'a', u'en', u'meme', u'temps']\n"
     ]
    }
   ],
   "source": [
    "text = train_feats.sample(1).values[0]\n",
    "print text\n",
    "print tokenizer(text, rm_punct=True, rm_stop_words=False, lemmatize=False)"
   ]
  },
  {
   "cell_type": "markdown",
   "metadata": {},
   "source": [
    "# Compute tfidf features"
   ]
  },
  {
   "cell_type": "code",
   "execution_count": 7,
   "metadata": {
    "collapsed": true
   },
   "outputs": [],
   "source": [
    "bow = CountVectorizer(tokenizer=lambda s: tokenizer(s, rm_punct=True, rm_stop_words=False, lemmatize=False),\n",
    "                      min_df=1, ngram_range=(1,1))\n",
    "train_bow_feats = bow.fit_transform(train_feats)\n",
    "val_bow_feats = bow.transform(val_feats)"
   ]
  },
  {
   "cell_type": "code",
   "execution_count": 8,
   "metadata": {},
   "outputs": [
    {
     "name": "stdout",
     "output_type": "stream",
     "text": [
      "(6400, 8489)\n",
      "(1628, 8489)\n"
     ]
    }
   ],
   "source": [
    "tfidf = TfidfTransformer()\n",
    "train_tfidf_feats = tfidf.fit_transform(train_bow_feats)\n",
    "val_tfidf_feats = tfidf.transform(val_bow_feats)\n",
    "\n",
    "print train_tfidf_feats.shape\n",
    "print val_tfidf_feats.shape"
   ]
  },
  {
   "cell_type": "markdown",
   "metadata": {},
   "source": [
    "### Visualize tfidf features"
   ]
  },
  {
   "cell_type": "code",
   "execution_count": 9,
   "metadata": {},
   "outputs": [
    {
     "name": "stdout",
     "output_type": "stream",
     "text": [
      "j ai pris du rhinadvil pour un rhum que le docteur m avais prescrit +du pivalone mais depuis ce matin j ai mes levres qui picote et la gorge qui gratte !!serait possible que ce sois une allergie ??si oui que faire \n",
      "\n",
      "[u'j', u'ai', u'pris', u'du', u'rhinadvil', u'pour', u'un', u'rhum', u'que', u'le', u'docteur', u'm', u'avais', u'prescrit', u'+', u'du', u'pivalone', u'mais', u'depuis', u'ce', u'matin', u'j', u'ai', u'mes', u'levres', u'qui', u'picote', u'et', u'la', u'gorge', u'qui', u'gratte', u'serait', u'possible', u'que', u'ce', u'sois', u'une', u'allergie', u'si', u'oui', u'que', u'faire'] \n",
      "\n",
      "j                    0.303162083052\n",
      "picote               0.257809831455\n",
      "pivalone             0.238109806104\n",
      "rhinadvil            0.238109806104\n",
      "levres               0.222204893672\n",
      "docteur              0.215062253917\n",
      "qui                  0.214736265669\n",
      "que                  0.212578758173\n",
      "gratte               0.212067789123\n",
      "sois                 0.206886004659\n",
      "gorge                0.196986735212\n",
      "serait               0.187185979309\n",
      "m                    0.18280484297\n",
      "allergie             0.181807508047\n",
      "oui                  0.180843987678\n",
      "ce                   0.163399788612\n",
      "du                   0.160963723662\n",
      "ai                   0.158787677746\n",
      "avais                0.155570156078\n",
      "+                    0.144702786271\n",
      "matin                0.139832591307\n",
      "possible             0.138307720622\n",
      "prescrit             0.130883681252\n",
      "pris                 0.116959631948\n",
      "mes                  0.11365661746\n",
      "faire                0.107083919177\n",
      "mais                 0.105236408517\n",
      "depuis               0.0990139172544\n",
      "si                   0.0957493027097\n",
      "une                  0.0840520822955\n",
      "pour                 0.0838016742538\n",
      "un                   0.0772609326604\n",
      "le                   0.0683093193749\n",
      "la                   0.0675780168489\n",
      "et                   0.0658529250727\n"
     ]
    }
   ],
   "source": [
    "feature_names = bow.get_feature_names()\n",
    "text = val_feats.sample(1).values[0]\n",
    "print text, '\\n'\n",
    "\n",
    "print bow.tokenizer(text), '\\n'\n",
    "\n",
    "text_tfidf = tfidf.transform(bow.transform([text])).todense().tolist()[0]\n",
    "text_scores = [pair for pair in zip(range(0, len(text_tfidf)), text_tfidf) if pair[1] > 0]\n",
    "sorted_text_scores = sorted(text_scores, key=lambda t: t[1] * -1)\n",
    "\n",
    "for phrase, score in [(feature_names[word_id], score) for (word_id, score) in sorted_text_scores]:\n",
    "    print u'{0: <20} {1}'.format(phrase, score)"
   ]
  },
  {
   "cell_type": "markdown",
   "metadata": {},
   "source": [
    "# Build final features"
   ]
  },
  {
   "cell_type": "markdown",
   "metadata": {},
   "source": [
    "### Add MED count"
   ]
  },
  {
   "cell_type": "code",
   "execution_count": 10,
   "metadata": {},
   "outputs": [
    {
     "name": "stdout",
     "output_type": "stream",
     "text": [
      "(6400, 8490)\n",
      "(1628, 8490)\n"
     ]
    }
   ],
   "source": [
    "with_med_count = True\n",
    "\n",
    "if with_med_count:\n",
    "    train_final_feats = sparse.hstack((np.expand_dims(train_med, axis=1), train_tfidf_feats))\n",
    "    val_final_feats = sparse.hstack((np.expand_dims(val_med, axis=1), val_tfidf_feats))\n",
    "else:\n",
    "    train_final_feats = train_tfidf_feats\n",
    "    val_final_feats = val_tfidf_feats\n",
    "\n",
    "print train_final_feats.shape\n",
    "print val_final_feats.shape"
   ]
  },
  {
   "cell_type": "markdown",
   "metadata": {},
   "source": [
    "### Compute LDA decompostion"
   ]
  },
  {
   "cell_type": "code",
   "execution_count": 11,
   "metadata": {},
   "outputs": [],
   "source": [
    "with_lda = False\n",
    "\n",
    "if with_lda:\n",
    "    lda = LatentDirichletAllocation(20, n_jobs=-1)\n",
    "    train_lda_feats = lda.fit_transform(train_bow_feats)\n",
    "    val_lda_feats = lda.transform(val_bow_feats)\n",
    "    \n",
    "    train_final_feats = sparse.hstack((train_lda_feats, train_final_feats))\n",
    "    val_final_feats = sparse.hstack((val_lda_feats, val_final_feats))\n",
    "\n",
    "    print train_final_feats.shape\n",
    "    print val_final_feats.shape"
   ]
  },
  {
   "cell_type": "markdown",
   "metadata": {},
   "source": [
    "# SVM"
   ]
  },
  {
   "cell_type": "code",
   "execution_count": 12,
   "metadata": {},
   "outputs": [
    {
     "name": "stdout",
     "output_type": "stream",
     "text": [
      "Train accuracy 0.89609375\n",
      "Val accuracy 0.648648648649\n"
     ]
    }
   ],
   "source": [
    "svc = SVC(kernel='linear', class_weight=None, C=1., probability=False).fit(train_final_feats, train_labels)\n",
    "print 'Train accuracy', svc.score(train_final_feats, train_labels)\n",
    "print 'Val accuracy', svc.score(val_final_feats, val_labels)"
   ]
  },
  {
   "cell_type": "markdown",
   "metadata": {},
   "source": [
    "# Random Forest"
   ]
  },
  {
   "cell_type": "code",
   "execution_count": 13,
   "metadata": {},
   "outputs": [
    {
     "name": "stdout",
     "output_type": "stream",
     "text": [
      "Train accuracy 0.99515625\n",
      "Val accuracy 0.594594594595\n"
     ]
    }
   ],
   "source": [
    "rf = RandomForestClassifier(n_estimators=75, class_weight=None).fit(train_final_feats, train_labels)\n",
    "print 'Train accuracy', rf.score(train_final_feats, train_labels)\n",
    "print 'Val accuracy', rf.score(val_final_feats, val_labels)"
   ]
  },
  {
   "cell_type": "markdown",
   "metadata": {},
   "source": [
    "# XGBoost"
   ]
  },
  {
   "cell_type": "code",
   "execution_count": 14,
   "metadata": {
    "collapsed": true
   },
   "outputs": [],
   "source": [
    "parameters = {'nthread':4, #when use hyperthread, xgboost may become slower\n",
    "              'objective':'multi:softprob',\n",
    "              'learning_rate': .2, #so called `eta` value\n",
    "              'max_depth': 10,\n",
    "              'silent': 1,\n",
    "              'n_estimators':40,\n",
    "             }"
   ]
  },
  {
   "cell_type": "code",
   "execution_count": 15,
   "metadata": {
    "scrolled": false
   },
   "outputs": [
    {
     "name": "stdout",
     "output_type": "stream",
     "text": [
      "[0]\tvalidation_0-merror:0.514742\n",
      "[1]\tvalidation_0-merror:0.496314\n",
      "[2]\tvalidation_0-merror:0.47973\n",
      "[3]\tvalidation_0-merror:0.468059\n",
      "[4]\tvalidation_0-merror:0.447174\n",
      "[5]\tvalidation_0-merror:0.449017\n",
      "[6]\tvalidation_0-merror:0.44226\n",
      "[7]\tvalidation_0-merror:0.441032\n",
      "[8]\tvalidation_0-merror:0.437346\n",
      "[9]\tvalidation_0-merror:0.424447\n",
      "[10]\tvalidation_0-merror:0.418305\n",
      "[11]\tvalidation_0-merror:0.415233\n",
      "[12]\tvalidation_0-merror:0.412162\n",
      "[13]\tvalidation_0-merror:0.408477\n",
      "[14]\tvalidation_0-merror:0.409091\n",
      "[15]\tvalidation_0-merror:0.403563\n",
      "[16]\tvalidation_0-merror:0.402948\n",
      "[17]\tvalidation_0-merror:0.403563\n",
      "[18]\tvalidation_0-merror:0.398034\n",
      "[19]\tvalidation_0-merror:0.396806\n",
      "[20]\tvalidation_0-merror:0.396806\n",
      "[21]\tvalidation_0-merror:0.395577\n",
      "[22]\tvalidation_0-merror:0.394963\n",
      "[23]\tvalidation_0-merror:0.396192\n",
      "[24]\tvalidation_0-merror:0.396806\n",
      "[25]\tvalidation_0-merror:0.394963\n",
      "[26]\tvalidation_0-merror:0.395577\n",
      "[27]\tvalidation_0-merror:0.393735\n",
      "[28]\tvalidation_0-merror:0.394963\n",
      "[29]\tvalidation_0-merror:0.395577\n",
      "[30]\tvalidation_0-merror:0.394349\n",
      "[31]\tvalidation_0-merror:0.396806\n",
      "[32]\tvalidation_0-merror:0.396192\n",
      "[33]\tvalidation_0-merror:0.393735\n",
      "[34]\tvalidation_0-merror:0.39312\n",
      "[35]\tvalidation_0-merror:0.396192\n",
      "[36]\tvalidation_0-merror:0.394963\n",
      "[37]\tvalidation_0-merror:0.393735\n",
      "[38]\tvalidation_0-merror:0.39312\n",
      "[39]\tvalidation_0-merror:0.392506\n"
     ]
    },
    {
     "data": {
      "text/plain": [
       "XGBClassifier(base_score=0.5, booster='gbtree', colsample_bylevel=1,\n",
       "       colsample_bytree=1, gamma=0, learning_rate=0.2, max_delta_step=0,\n",
       "       max_depth=10, min_child_weight=1, missing=None, n_estimators=40,\n",
       "       n_jobs=1, nthread=4, objective='multi:softprob', random_state=0,\n",
       "       reg_alpha=0, reg_lambda=1, scale_pos_weight=1, seed=None, silent=1,\n",
       "       subsample=1)"
      ]
     },
     "execution_count": 15,
     "metadata": {},
     "output_type": "execute_result"
    }
   ],
   "source": [
    "xgb_model = xgb.XGBClassifier(**parameters)\n",
    "xgb_model.fit(train_final_feats, train_labels, eval_set=[(val_final_feats, val_labels)], verbose=1)"
   ]
  },
  {
   "cell_type": "code",
   "execution_count": 16,
   "metadata": {},
   "outputs": [
    {
     "name": "stdout",
     "output_type": "stream",
     "text": [
      "Val accuracy 0.607493857494\n"
     ]
    }
   ],
   "source": [
    "print 'Val accuracy', xgb_model.score(val_final_feats, val_labels)"
   ]
  },
  {
   "cell_type": "markdown",
   "metadata": {},
   "source": [
    "# Ensemble"
   ]
  },
  {
   "cell_type": "raw",
   "metadata": {},
   "source": [
    "print_confusion_matrix(svc, val_tfidf_feats, val_labels)\n",
    "\n",
    "print_confusion_matrix(rf, val_tfidf_feats, val_labels)\n",
    "\n",
    "print_confusion_matrix(xgb_model, val_tfidf_feats, val_labels)"
   ]
  },
  {
   "cell_type": "raw",
   "metadata": {},
   "source": [
    "ensemble = np.argmax(svc.predict_proba(val_tfidf_feats) + \n",
    "                     rf.predict_proba(val_tfidf_feats) +\n",
    "                     xgb_model.predict_proba(val_tfidf_feats), axis=1)\n",
    "print 'Val accuracy', accuracy_score(ensemble, val_labels)"
   ]
  },
  {
   "cell_type": "markdown",
   "metadata": {},
   "source": [
    "# Output test predictions"
   ]
  },
  {
   "cell_type": "raw",
   "metadata": {
    "collapsed": true
   },
   "source": [
    "test_bow_feats = bow.transform(test_feats)\n",
    "test_tfidf_feats= tfidf.transform(test_bow_feats)\n",
    "test_labels = np.argmax(0.7*svc.predict_proba(test_tfidf_feats) + \n",
    "                     0.1*rf.predict_proba(test_tfidf_feats) +\n",
    "                     0.5*xgb_model.predict_proba(test_tfidf_feats), axis=1)"
   ]
  },
  {
   "cell_type": "raw",
   "metadata": {
    "collapsed": true
   },
   "source": [
    "import csv\n",
    "\n",
    "filename = 'svm_rf_xgb_ensemble.csv'\n",
    "with open('output/{}'.format(filename), 'w') as csvfile:\n",
    "    writer = csv.writer(csvfile, delimiter=';')\n",
    "    writer.writerow(['ID', 'intention'])\n",
    "    for idx, label in enumerate(test_labels):\n",
    "        writer.writerow([idx+8028, label])"
   ]
  },
  {
   "cell_type": "code",
   "execution_count": null,
   "metadata": {
    "collapsed": true
   },
   "outputs": [],
   "source": []
  }
 ],
 "metadata": {
  "kernelspec": {
   "display_name": "Python 2",
   "language": "python",
   "name": "python2"
  },
  "language_info": {
   "codemirror_mode": {
    "name": "ipython",
    "version": 2
   },
   "file_extension": ".py",
   "mimetype": "text/x-python",
   "name": "python",
   "nbconvert_exporter": "python",
   "pygments_lexer": "ipython2",
   "version": "2.7.12"
  }
 },
 "nbformat": 4,
 "nbformat_minor": 2
}
