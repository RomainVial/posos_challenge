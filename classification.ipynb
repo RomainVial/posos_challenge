{
 "cells": [
  {
   "cell_type": "code",
   "execution_count": 1,
   "metadata": {
    "collapsed": true
   },
   "outputs": [],
   "source": [
    "%matplotlib inline\n",
    "import spacy\n",
    "import numpy as np\n",
    "import pandas as pd\n",
    "import pickle as pkl\n",
    "import xgboost as xgb\n",
    "from scipy import sparse\n",
    "from gensim.models import Doc2Vec\n",
    "from gensim.models.doc2vec import TaggedDocument\n",
    "from sklearn.svm import SVC\n",
    "from sklearn.manifold import TSNE\n",
    "from sklearn.metrics import accuracy_score\n",
    "from sklearn.ensemble import RandomForestClassifier\n",
    "from sklearn.decomposition import LatentDirichletAllocation\n",
    "from sklearn.feature_extraction.text import TfidfTransformer, CountVectorizer\n",
    "\n",
    "nlp = spacy.load('fr')\n",
    "\n",
    "seed = 777"
   ]
  },
  {
   "cell_type": "code",
   "execution_count": 2,
   "metadata": {
    "collapsed": true
   },
   "outputs": [],
   "source": [
    "import itertools\n",
    "import matplotlib.pyplot as plt\n",
    "from sklearn.metrics import confusion_matrix\n",
    "\n",
    "def print_confusion_matrix(clf, features, labels):\n",
    "    cm = confusion_matrix(labels, clf.predict(features))\n",
    "    print cm\n",
    "\n",
    "    title = ''\n",
    "    classes = [i for i in range(np.amax(labels) + 1)]\n",
    "    cmap=plt.cm.Blues\n",
    "    normalize = True\n",
    "\n",
    "    if normalize:\n",
    "        cm = cm.astype('float') / cm.sum(axis=1)[:, np.newaxis]\n",
    "        \n",
    "    plt.figure()\n",
    "    plt.imshow(cm, interpolation='nearest', cmap=cmap)\n",
    "    plt.title(title)\n",
    "    plt.colorbar()\n",
    "    tick_marks = np.arange(len(classes))\n",
    "    plt.xticks(tick_marks, classes, rotation=45)\n",
    "    plt.yticks(tick_marks, classes)\n",
    "\n",
    "    plt.tight_layout()\n",
    "    plt.ylabel('True label')\n",
    "    plt.xlabel('Predicted label')\n",
    "    plt.show()\n",
    "    plt.close()"
   ]
  },
  {
   "cell_type": "markdown",
   "metadata": {},
   "source": [
    "# Load data"
   ]
  },
  {
   "cell_type": "code",
   "execution_count": 3,
   "metadata": {
    "collapsed": true
   },
   "outputs": [],
   "source": [
    "def count_med(data, split):\n",
    "    count = np.zeros((len(data[split]['texts_with_med']), ))\n",
    "    for idx, line in enumerate(data[split]['texts_with_med']):\n",
    "        count[idx] = line.count('MED')\n",
    "    return count"
   ]
  },
  {
   "cell_type": "code",
   "execution_count": 4,
   "metadata": {
    "collapsed": true
   },
   "outputs": [],
   "source": [
    "data = pkl.load(open('data/corpus.pkl', 'r'))\n",
    "features = 'raw_texts'\n",
    "nb_train = 6400\n",
    "\n",
    "train_df = pd.DataFrame({'labels':data['train']['labels'], \n",
    "                         'features':data['train'][features],\n",
    "                         'count_med':count_med(data, 'train')}).sample(frac=1., random_state=seed)\n",
    "\n",
    "train_feats = train_df['features'][:nb_train]\n",
    "train_labels = train_df['labels'][:nb_train].astype(int)\n",
    "train_med = train_df['count_med'][:nb_train]\n",
    "\n",
    "val_feats = train_df['features'][nb_train:]\n",
    "val_labels = train_df['labels'][nb_train:].astype(int)\n",
    "val_med = train_df['count_med'][nb_train:]\n",
    "\n",
    "test_feats = data['test'][features]\n",
    "test_med = count_med(data, 'test')"
   ]
  },
  {
   "cell_type": "markdown",
   "metadata": {},
   "source": [
    "# Build tokenizer"
   ]
  },
  {
   "cell_type": "code",
   "execution_count": 5,
   "metadata": {
    "collapsed": true
   },
   "outputs": [],
   "source": [
    "def tokenizer(text, rm_stop_words=False, rm_punct=False, lemmatize=False):\n",
    "    tokens = nlp(text)\n",
    "    tokens = [token for token in tokens if not token.is_space]\n",
    "    \n",
    "    if rm_stop_words:\n",
    "        tokens = [token for token in tokens if not token.is_stop]\n",
    "    if rm_punct:\n",
    "        tokens = [token for token in tokens if not token.is_punct]\n",
    "    if lemmatize:\n",
    "        return [token.lemma_ for token in tokens]\n",
    "    \n",
    "    return [token.lower_ for token in tokens]"
   ]
  },
  {
   "cell_type": "code",
   "execution_count": 6,
   "metadata": {},
   "outputs": [
    {
     "name": "stdout",
     "output_type": "stream",
     "text": [
      "peut on faire le vaccin tetanos, dt polio et hepatite a en meme temps ?\n",
      "[u'peut', u'on', u'faire', u'le', u'vaccin', u'tetanos', u'dt', u'polio', u'et', u'hepatite', u'a', u'en', u'meme', u'temps']\n"
     ]
    }
   ],
   "source": [
    "text = train_feats.sample(1).values[0]\n",
    "print text\n",
    "print tokenizer(text, rm_punct=True, rm_stop_words=False, lemmatize=False)"
   ]
  },
  {
   "cell_type": "markdown",
   "metadata": {},
   "source": [
    "# Compute Doc2Vec features"
   ]
  },
  {
   "cell_type": "raw",
   "metadata": {},
   "source": [
    "doc2vec_tokenizer = lambda s: tokenizer(s, rm_punct=True, rm_stop_words=True, lemmatize=False)\n",
    "\n",
    "train_docs = []\n",
    "print 'Tagging docs...'\n",
    "for i, (line, label_id) in enumerate(zip(train_feats, train_labels)):\n",
    "    if (i+1)%100 == 0:\n",
    "        print \"{} out of {}\".format(i+1, len(train_feats))\n",
    "    #train_docs.append(TaggedDocument(doc2vec_tokenizer(line), [i]))\n",
    "    train_docs.append(TaggedDocument(doc2vec_tokenizer(line), [label_id]))"
   ]
  },
  {
   "cell_type": "raw",
   "metadata": {},
   "source": [
    "print 'Training Doc2Vec'\n",
    "\n",
    "# PV-DM w/ concatenation - window=5 (both sides) approximates paper's 10-word total window size\n",
    "doc2vec = Doc2Vec(dm=1, dm_concat=1, size=50, window=20, negative=10, hs=0, min_count=2)\n",
    "\n",
    "doc2vec.build_vocab(train_docs)\n",
    "%time doc2vec.train(train_docs, total_examples=doc2vec.corpus_count, epochs=50, start_alpha=0.025)\n",
    "doc2vec.save('doc2vec_model')"
   ]
  },
  {
   "cell_type": "raw",
   "metadata": {},
   "source": [
    "print 'Inferring training vectors...'\n",
    "train_doc2vec_feats = []\n",
    "for line in train_docs:\n",
    "    train_doc2vec_feats.append(doc2vec.infer_vector(line.words))\n",
    "train_doc2vec_feats = np.asarray(train_doc2vec_feats)\n",
    "\n",
    "print 'Inferring val vectors'\n",
    "val_doc2vec_feats = []\n",
    "for i, line in enumerate(val_feats):\n",
    "    if (i+1)%100 == 0:\n",
    "        print \"{} out of {}\".format(i+1, len(val_feats))\n",
    "    line = doc2vec_tokenizer(line)\n",
    "    val_doc2vec_feats.append(doc2vec.infer_vector(line))\n",
    "val_doc2vec_feats = np.asarray(val_doc2vec_feats)"
   ]
  },
  {
   "cell_type": "markdown",
   "metadata": {},
   "source": [
    "### Visualizaing Doc2Vec"
   ]
  },
  {
   "cell_type": "raw",
   "metadata": {},
   "source": [
    "# Pick a random document from the test corpus and infer a vector from the model\n",
    "text = val_feats.sample(1).values[0]\n",
    "inferred_vector = doc2vec.infer_vector(doc2vec_tokenizer(text))\n",
    "sims = doc2vec.docvecs.most_similar([inferred_vector], topn=len(doc2vec.docvecs))\n",
    "\n",
    "# Compare and print the most/median/least similar documents from the train corpus\n",
    "print('Document: «{}»\\n'.format(text))\n",
    "print(u'SIMILAR/DISSIMILAR DOCS PER MODEL %s:\\n' % doc2vec)\n",
    "for label, index in [('MOST', 0), ('MEDIAN', len(sims)//2), ('LEAST', len(sims) - 1)]:\n",
    "    print(u'%s %s: «%s»\\n' % (label, sims[index], ' '.join(train_docs[sims[index][0]].words)))"
   ]
  },
  {
   "cell_type": "raw",
   "metadata": {},
   "source": [
    "X_embedded = TSNE(n_components=2, verbose=1).fit_transform(train_doc2vec_feats)\n",
    "plt.scatter(X_embedded[:,0], X_embedded[:,1], c=train_labels, cmap='Dark2')\n",
    "plt.plot()"
   ]
  },
  {
   "cell_type": "markdown",
   "metadata": {},
   "source": [
    "# Compute tfidf features"
   ]
  },
  {
   "cell_type": "code",
   "execution_count": 19,
   "metadata": {
    "collapsed": true
   },
   "outputs": [],
   "source": [
    "bow = CountVectorizer(tokenizer=lambda s: tokenizer(s, rm_punct=True, rm_stop_words=False, lemmatize=False),\n",
    "                      min_df=1, ngram_range=(1,1))\n",
    "train_bow_feats = bow.fit_transform(train_feats)\n",
    "val_bow_feats = bow.transform(val_feats)"
   ]
  },
  {
   "cell_type": "code",
   "execution_count": 20,
   "metadata": {},
   "outputs": [
    {
     "name": "stdout",
     "output_type": "stream",
     "text": [
      "(6400, 8489)\n",
      "(1628, 8489)\n"
     ]
    }
   ],
   "source": [
    "tfidf = TfidfTransformer()\n",
    "train_tfidf_feats = tfidf.fit_transform(train_bow_feats)\n",
    "val_tfidf_feats = tfidf.transform(val_bow_feats)\n",
    "\n",
    "print train_tfidf_feats.shape\n",
    "print val_tfidf_feats.shape"
   ]
  },
  {
   "cell_type": "markdown",
   "metadata": {},
   "source": [
    "### Visualize tfidf features"
   ]
  },
  {
   "cell_type": "code",
   "execution_count": 21,
   "metadata": {},
   "outputs": [
    {
     "name": "stdout",
     "output_type": "stream",
     "text": [
      "je voudrais savoir si le fait de commencer la pilule le 2eme jour des regles aurait un risque de tomber enceinte?? \n",
      "\n",
      "[u'je', u'voudrais', u'savoir', u'si', u'le', u'fait', u'de', u'commencer', u'la', u'pilule', u'le', u'2eme', u'jour', u'des', u'regles', u'aurait', u'un', u'risque', u'de', u'tomber', u'enceinte'] \n",
      "\n",
      "2eme                 0.34273968905\n",
      "aurait               0.336610328768\n",
      "tomber               0.307764322309\n",
      "commencer            0.298646803997\n",
      "voudrais             0.261200258919\n",
      "le                   0.250150304721\n",
      "risque               0.229370134914\n",
      "enceinte             0.229125243097\n",
      "jour                 0.222698127222\n",
      "fait                 0.204788830999\n",
      "regles               0.202249819394\n",
      "savoir               0.199137840344\n",
      "de                   0.193919931886\n",
      "pilule               0.189627053675\n",
      "si                   0.175318078623\n",
      "des                  0.150989843841\n",
      "un                   0.141465659627\n",
      "la                   0.123736128993\n",
      "je                   0.122023525681\n"
     ]
    }
   ],
   "source": [
    "feature_names = bow.get_feature_names()\n",
    "text = val_feats.sample(1).values[0]\n",
    "print text, '\\n'\n",
    "\n",
    "print bow.tokenizer(text), '\\n'\n",
    "\n",
    "text_tfidf = tfidf.transform(bow.transform([text])).todense().tolist()[0]\n",
    "text_scores = [pair for pair in zip(range(0, len(text_tfidf)), text_tfidf) if pair[1] > 0]\n",
    "sorted_text_scores = sorted(text_scores, key=lambda t: t[1] * -1)\n",
    "\n",
    "for phrase, score in [(feature_names[word_id], score) for (word_id, score) in sorted_text_scores]:\n",
    "    print u'{0: <20} {1}'.format(phrase, score)"
   ]
  },
  {
   "cell_type": "markdown",
   "metadata": {},
   "source": [
    "# Build final features"
   ]
  },
  {
   "cell_type": "code",
   "execution_count": 22,
   "metadata": {
    "collapsed": true
   },
   "outputs": [],
   "source": [
    "representation = 'tfidf'\n",
    "\n",
    "if representation == 'doc2vec':\n",
    "    train_representation_feats = train_doc2vec_feats\n",
    "    val_representation_feats = val_doc2vec_feats\n",
    "elif representation == 'tfidf':\n",
    "    train_representation_feats = train_tfidf_feats\n",
    "    val_representation_feats = val_tfidf_feats"
   ]
  },
  {
   "cell_type": "markdown",
   "metadata": {},
   "source": [
    "### Add MED count"
   ]
  },
  {
   "cell_type": "code",
   "execution_count": 23,
   "metadata": {},
   "outputs": [
    {
     "name": "stdout",
     "output_type": "stream",
     "text": [
      "(6400, 8490)\n",
      "(1628, 8490)\n"
     ]
    }
   ],
   "source": [
    "with_med_count = True\n",
    "\n",
    "if with_med_count:\n",
    "    if sparse.issparse(train_representation_feats):\n",
    "        train_final_feats = sparse.hstack((np.expand_dims(train_med, axis=1), train_representation_feats))\n",
    "        val_final_feats = sparse.hstack((np.expand_dims(val_med, axis=1), val_representation_feats))\n",
    "    else:\n",
    "        train_final_feats = np.hstack((np.expand_dims(train_med, axis=1), train_representation_feats))\n",
    "        val_final_feats = np.hstack((np.expand_dims(val_med, axis=1), val_representation_feats))\n",
    "else:\n",
    "    train_final_feats = train_representation_feats\n",
    "    val_final_feats = val_representation_feats\n",
    "\n",
    "print train_final_feats.shape\n",
    "print val_final_feats.shape"
   ]
  },
  {
   "cell_type": "markdown",
   "metadata": {},
   "source": [
    "### Compute LDA decompostion"
   ]
  },
  {
   "cell_type": "code",
   "execution_count": 24,
   "metadata": {
    "collapsed": true
   },
   "outputs": [],
   "source": [
    "with_lda = False\n",
    "\n",
    "if with_lda:\n",
    "    lda = LatentDirichletAllocation(20, n_jobs=-1)\n",
    "    train_lda_feats = lda.fit_transform(train_bow_feats)\n",
    "    val_lda_feats = lda.transform(val_bow_feats)\n",
    "    \n",
    "    train_final_feats = sparse.hstack((train_lda_feats, train_final_feats))\n",
    "    val_final_feats = sparse.hstack((val_lda_feats, val_final_feats))\n",
    "\n",
    "    print train_final_feats.shape\n",
    "    print val_final_feats.shape"
   ]
  },
  {
   "cell_type": "markdown",
   "metadata": {},
   "source": [
    "# SVM"
   ]
  },
  {
   "cell_type": "code",
   "execution_count": 33,
   "metadata": {},
   "outputs": [
    {
     "name": "stdout",
     "output_type": "stream",
     "text": [
      " Train accuracy 0.9940625\n",
      "Val accuracy 0.659090909091\n"
     ]
    }
   ],
   "source": [
    "svc = SVC(kernel='linear', class_weight=None, C=10., probability=True).fit(train_final_feats, train_labels)\n",
    "print 'Train accuracy', svc.score(train_final_feats, train_labels)\n",
    "print 'Val accuracy', svc.score(val_final_feats, val_labels)"
   ]
  },
  {
   "cell_type": "markdown",
   "metadata": {},
   "source": [
    "# Random Forest"
   ]
  },
  {
   "cell_type": "raw",
   "metadata": {},
   "source": [
    "rf = RandomForestClassifier(n_estimators=75, class_weight=None).fit(train_final_feats, train_labels)\n",
    "print 'Train accuracy', rf.score(train_final_feats, train_labels)\n",
    "print 'Val accuracy', rf.score(val_final_feats, val_labels)"
   ]
  },
  {
   "cell_type": "markdown",
   "metadata": {},
   "source": [
    "# XGBoost"
   ]
  },
  {
   "cell_type": "code",
   "execution_count": 38,
   "metadata": {
    "collapsed": true
   },
   "outputs": [],
   "source": [
    "parameters = {'nthread':4, #when use hyperthread, xgboost may become slower\n",
    "              'objective':'multi:softprob',\n",
    "              'learning_rate': .09, #so called `eta` value\n",
    "              'max_depth': 10,\n",
    "              'silent': 0,\n",
    "              'n_estimators':100,\n",
    "              'subsample':0.70,\n",
    "              'colsample_bytree':0.70,\n",
    "             }"
   ]
  },
  {
   "cell_type": "code",
   "execution_count": 39,
   "metadata": {
    "scrolled": false
   },
   "outputs": [
    {
     "name": "stdout",
     "output_type": "stream",
     "text": [
      "[0]\tvalidation_0-merror:0.589066\n",
      "[1]\tvalidation_0-merror:0.532555\n",
      "[2]\tvalidation_0-merror:0.511671\n",
      "[3]\tvalidation_0-merror:0.501843\n",
      "[4]\tvalidation_0-merror:0.496314\n",
      "[5]\tvalidation_0-merror:0.496314\n",
      "[6]\tvalidation_0-merror:0.487715\n",
      "[7]\tvalidation_0-merror:0.480344\n",
      "[8]\tvalidation_0-merror:0.47973\n",
      "[9]\tvalidation_0-merror:0.47543\n",
      "[10]\tvalidation_0-merror:0.472973\n",
      "[11]\tvalidation_0-merror:0.472359\n",
      "[12]\tvalidation_0-merror:0.46683\n",
      "[13]\tvalidation_0-merror:0.465602\n",
      "[14]\tvalidation_0-merror:0.463145\n",
      "[15]\tvalidation_0-merror:0.464988\n",
      "[16]\tvalidation_0-merror:0.460074\n",
      "[17]\tvalidation_0-merror:0.458845\n",
      "[18]\tvalidation_0-merror:0.462531\n",
      "[19]\tvalidation_0-merror:0.455774\n",
      "[20]\tvalidation_0-merror:0.458845\n",
      "[21]\tvalidation_0-merror:0.460688\n",
      "[22]\tvalidation_0-merror:0.457617\n",
      "[23]\tvalidation_0-merror:0.451474\n",
      "[24]\tvalidation_0-merror:0.451474\n",
      "[25]\tvalidation_0-merror:0.44656\n",
      "[26]\tvalidation_0-merror:0.442875\n",
      "[27]\tvalidation_0-merror:0.441646\n",
      "[28]\tvalidation_0-merror:0.439803\n",
      "[29]\tvalidation_0-merror:0.437346\n",
      "[30]\tvalidation_0-merror:0.437961\n",
      "[31]\tvalidation_0-merror:0.436118\n",
      "[32]\tvalidation_0-merror:0.432432\n",
      "[33]\tvalidation_0-merror:0.432432\n",
      "[34]\tvalidation_0-merror:0.431818\n",
      "[35]\tvalidation_0-merror:0.431818\n",
      "[36]\tvalidation_0-merror:0.429975\n",
      "[37]\tvalidation_0-merror:0.429361\n",
      "[38]\tvalidation_0-merror:0.428747\n",
      "[39]\tvalidation_0-merror:0.425061\n",
      "[40]\tvalidation_0-merror:0.42629\n",
      "[41]\tvalidation_0-merror:0.426904\n",
      "[42]\tvalidation_0-merror:0.425061\n",
      "[43]\tvalidation_0-merror:0.422604\n",
      "[44]\tvalidation_0-merror:0.423219\n",
      "[45]\tvalidation_0-merror:0.420762\n",
      "[46]\tvalidation_0-merror:0.42199\n",
      "[47]\tvalidation_0-merror:0.420762\n",
      "[48]\tvalidation_0-merror:0.420147\n",
      "[49]\tvalidation_0-merror:0.41769\n",
      "[50]\tvalidation_0-merror:0.417076\n",
      "[51]\tvalidation_0-merror:0.415848\n",
      "[52]\tvalidation_0-merror:0.415848\n",
      "[53]\tvalidation_0-merror:0.415233\n",
      "[54]\tvalidation_0-merror:0.414005\n",
      "[55]\tvalidation_0-merror:0.412776\n",
      "[56]\tvalidation_0-merror:0.412776\n",
      "[57]\tvalidation_0-merror:0.411548\n",
      "[58]\tvalidation_0-merror:0.409705\n",
      "[59]\tvalidation_0-merror:0.410319\n",
      "[60]\tvalidation_0-merror:0.409091\n",
      "[61]\tvalidation_0-merror:0.407248\n",
      "[62]\tvalidation_0-merror:0.407248\n",
      "[63]\tvalidation_0-merror:0.406634\n",
      "[64]\tvalidation_0-merror:0.407248\n",
      "[65]\tvalidation_0-merror:0.40602\n",
      "[66]\tvalidation_0-merror:0.40602\n",
      "[67]\tvalidation_0-merror:0.40602\n",
      "[68]\tvalidation_0-merror:0.40602\n",
      "[69]\tvalidation_0-merror:0.40602\n",
      "[70]\tvalidation_0-merror:0.407862\n",
      "[71]\tvalidation_0-merror:0.409091\n",
      "[72]\tvalidation_0-merror:0.407862\n",
      "[73]\tvalidation_0-merror:0.409091\n",
      "[74]\tvalidation_0-merror:0.409091\n",
      "[75]\tvalidation_0-merror:0.408477\n",
      "[76]\tvalidation_0-merror:0.407248\n",
      "[77]\tvalidation_0-merror:0.406634\n",
      "[78]\tvalidation_0-merror:0.407862\n",
      "[79]\tvalidation_0-merror:0.40602\n",
      "[80]\tvalidation_0-merror:0.407248\n",
      "[81]\tvalidation_0-merror:0.407248\n",
      "[82]\tvalidation_0-merror:0.407248\n",
      "[83]\tvalidation_0-merror:0.407862\n",
      "[84]\tvalidation_0-merror:0.408477\n",
      "[85]\tvalidation_0-merror:0.404791\n",
      "[86]\tvalidation_0-merror:0.40602\n",
      "[87]\tvalidation_0-merror:0.40172\n",
      "[88]\tvalidation_0-merror:0.402334\n",
      "[89]\tvalidation_0-merror:0.40172\n",
      "[90]\tvalidation_0-merror:0.396192\n",
      "[91]\tvalidation_0-merror:0.396806\n",
      "[92]\tvalidation_0-merror:0.395577\n",
      "[93]\tvalidation_0-merror:0.39312\n",
      "[94]\tvalidation_0-merror:0.394349\n",
      "[95]\tvalidation_0-merror:0.394349\n",
      "[96]\tvalidation_0-merror:0.394349\n",
      "[97]\tvalidation_0-merror:0.396192\n",
      "[98]\tvalidation_0-merror:0.394963\n",
      "[99]\tvalidation_0-merror:0.394963\n"
     ]
    },
    {
     "data": {
      "text/plain": [
       "XGBClassifier(base_score=0.5, booster='gbtree', colsample_bylevel=1,\n",
       "       colsample_bytree=0.7, gamma=0, learning_rate=0.09, max_delta_step=0,\n",
       "       max_depth=10, min_child_weight=1, missing=None, n_estimators=100,\n",
       "       n_jobs=1, nthread=4, objective='multi:softprob', random_state=0,\n",
       "       reg_alpha=0, reg_lambda=1, scale_pos_weight=1, seed=None, silent=0,\n",
       "       subsample=0.7)"
      ]
     },
     "execution_count": 39,
     "metadata": {},
     "output_type": "execute_result"
    }
   ],
   "source": [
    "xgb_model = xgb.XGBClassifier(**parameters)\n",
    "xgb_model.fit(train_final_feats, train_labels, eval_set=[(val_final_feats, val_labels)], verbose=1)"
   ]
  },
  {
   "cell_type": "code",
   "execution_count": 40,
   "metadata": {},
   "outputs": [
    {
     "name": "stdout",
     "output_type": "stream",
     "text": [
      "Train accuracy 0.94109375\n",
      "Val accuracy 0.605036855037\n"
     ]
    }
   ],
   "source": [
    "print 'Train accuracy', xgb_model.score(train_final_feats, train_labels)\n",
    "print 'Val accuracy', xgb_model.score(val_final_feats, val_labels)"
   ]
  },
  {
   "cell_type": "markdown",
   "metadata": {},
   "source": [
    "# Ensemble"
   ]
  },
  {
   "cell_type": "raw",
   "metadata": {},
   "source": [
    "print_confusion_matrix(svc, val_tfidf_feats, val_labels)\n",
    "\n",
    "print_confusion_matrix(rf, val_tfidf_feats, val_labels)\n",
    "\n",
    "print_confusion_matrix(xgb_model, val_tfidf_feats, val_labels)"
   ]
  },
  {
   "cell_type": "code",
   "execution_count": 45,
   "metadata": {},
   "outputs": [
    {
     "name": "stdout",
     "output_type": "stream",
     "text": [
      "Train accuracy 0.99375\n",
      "Val accuracy 0.667076167076\n"
     ]
    }
   ],
   "source": [
    "ensemble_model = lambda feats: np.argmax(1.7 * svc.predict_proba(feats) + \n",
    "                                         #rf.predict_proba(feats) +\n",
    "                                         xgb_model.predict_proba(feats), axis=1)\n",
    "print 'Train accuracy', accuracy_score(ensemble_model(train_final_feats), train_labels)\n",
    "print 'Val accuracy', accuracy_score(ensemble_model(val_final_feats), val_labels)"
   ]
  },
  {
   "cell_type": "markdown",
   "metadata": {},
   "source": [
    "# Output test predictions"
   ]
  },
  {
   "cell_type": "code",
   "execution_count": 46,
   "metadata": {},
   "outputs": [
    {
     "name": "stdout",
     "output_type": "stream",
     "text": [
      "(2035, 8490)\n"
     ]
    }
   ],
   "source": [
    "if representation == 'doc2vec':\n",
    "    print 'Inferring test vectors'\n",
    "    test_doc2vec_feats = []\n",
    "    for i, line in enumerate(test_feats):\n",
    "        if (i+1)%100 == 0:\n",
    "            print \"{} out of {}\".format(i+1, len(test_feats))\n",
    "        line = doc2vec_tokenizer(line)\n",
    "        test_doc2vec_feats.append(doc2vec.infer_vector(line))\n",
    "    test_representation_feats = np.asarray(test_doc2vec_feats)\n",
    "elif representation == 'tfidf':\n",
    "    test_bow_feats = bow.transform(test_feats)\n",
    "    test_representation_feats = tfidf.transform(test_bow_feats)\n",
    "\n",
    "if with_med_count:\n",
    "    if sparse.issparse(test_representation_feats):\n",
    "        test_final_feats = sparse.hstack((np.expand_dims(test_med, axis=1), test_representation_feats))\n",
    "    else:\n",
    "        test_final_feats = np.hstack((np.expand_dims(test_med, axis=1), test_representation_feats))\n",
    "else:\n",
    "    test_final_feats = test_representation_feats\n",
    "\n",
    "print test_final_feats.shape"
   ]
  },
  {
   "cell_type": "code",
   "execution_count": 47,
   "metadata": {
    "collapsed": true
   },
   "outputs": [],
   "source": [
    "test_labels = ensemble_model(test_final_feats)"
   ]
  },
  {
   "cell_type": "code",
   "execution_count": 48,
   "metadata": {
    "collapsed": true
   },
   "outputs": [],
   "source": [
    "import csv\n",
    "\n",
    "filename = 'tfidf_svm_xgb_ensemble.csv'\n",
    "with open('output/{}'.format(filename), 'w') as csvfile:\n",
    "    writer = csv.writer(csvfile, delimiter=';')\n",
    "    writer.writerow(['ID', 'intention'])\n",
    "    for idx, label in enumerate(test_labels):\n",
    "        writer.writerow([idx+8028, label])"
   ]
  },
  {
   "cell_type": "code",
   "execution_count": null,
   "metadata": {
    "collapsed": true
   },
   "outputs": [],
   "source": []
  }
 ],
 "metadata": {
  "kernelspec": {
   "display_name": "Python 2",
   "language": "python",
   "name": "python2"
  },
  "language_info": {
   "codemirror_mode": {
    "name": "ipython",
    "version": 2
   },
   "file_extension": ".py",
   "mimetype": "text/x-python",
   "name": "python",
   "nbconvert_exporter": "python",
   "pygments_lexer": "ipython2",
   "version": "2.7.12"
  }
 },
 "nbformat": 4,
 "nbformat_minor": 2
}
