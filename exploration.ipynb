{
 "cells": [
  {
   "cell_type": "code",
   "execution_count": 1,
   "metadata": {
    "collapsed": true
   },
   "outputs": [],
   "source": [
    "%matplotlib inline\n",
    "import matplotlib\n",
    "import matplotlib.pyplot as plt\n",
    "import pandas as pd\n",
    "import re\n",
    "import csv"
   ]
  },
  {
   "cell_type": "markdown",
   "metadata": {},
   "source": [
    "# Load dataset "
   ]
  },
  {
   "cell_type": "code",
   "execution_count": 2,
   "metadata": {
    "collapsed": true
   },
   "outputs": [],
   "source": [
    "dataset = {'train': {'question':[], 'intention':[]},\n",
    "           'test': {'question':[]}}\n",
    "\n",
    "with open('data/input_train.csv') as csvfile:\n",
    "    index = 0\n",
    "    reader = csv.reader(csvfile, delimiter=';', )\n",
    "    reader.next()\n",
    "    for row in reader:\n",
    "        assert index == int(row[0]), '{} {}'.format(index, row[0])\n",
    "        dataset['train']['question'].append(row[1])\n",
    "        index += 1\n",
    "\n",
    "with open('data/output_train.csv') as csvfile:\n",
    "    index = 0\n",
    "    reader = csv.reader(csvfile, delimiter=';', )\n",
    "    reader.next()\n",
    "    for row in reader:\n",
    "        assert index == int(row[0]), '{} {}'.format(index, row[0])\n",
    "        dataset['train']['intention'].append(row[1])\n",
    "        index += 1\n",
    "\n",
    "with open('data/input_test.csv') as csvfile:\n",
    "    index = len(dataset['train']['question'])\n",
    "    reader = csv.reader(csvfile, delimiter=';', )\n",
    "    reader.next()\n",
    "    for row in reader:\n",
    "        assert index == int(row[0]), '{} {}'.format(index, row[0])\n",
    "        dataset['test']['question'].append(row[1])\n",
    "        index += 1"
   ]
  },
  {
   "cell_type": "code",
   "execution_count": 3,
   "metadata": {},
   "outputs": [
    {
     "name": "stdout",
     "output_type": "stream",
     "text": [
      "       0\n",
      "0     28\n",
      "1     31\n",
      "2     28\n",
      "3     44\n",
      "4     31\n",
      "5     44\n",
      "6     48\n",
      "7     28\n",
      "8     22\n",
      "9     23\n",
      "10    31\n",
      "11    42\n",
      "12    28\n",
      "13    32\n",
      "14    28\n",
      "15    44\n",
      "16    26\n",
      "17     0\n",
      "18    28\n",
      "19    48\n",
      "20    34\n",
      "21    14\n",
      "22     7\n",
      "23    28\n",
      "24    37\n",
      "25    44\n",
      "26    23\n",
      "27    42\n",
      "28     4\n",
      "29    42\n",
      "...   ..\n",
      "7998  23\n",
      "7999   4\n",
      "8000  21\n",
      "8001  44\n",
      "8002  33\n",
      "8003  28\n",
      "8004  28\n",
      "8005  14\n",
      "8006   0\n",
      "8007  31\n",
      "8008  22\n",
      "8009  48\n",
      "8010  32\n",
      "8011  22\n",
      "8012  30\n",
      "8013  22\n",
      "8014  25\n",
      "8015  44\n",
      "8016  31\n",
      "8017  29\n",
      "8018  44\n",
      "8019  22\n",
      "8020  28\n",
      "8021  28\n",
      "8022  28\n",
      "8023  41\n",
      "8024  48\n",
      "8025  42\n",
      "8026  14\n",
      "8027  22\n",
      "\n",
      "[8028 rows x 1 columns]\n",
      "                                                      0\n",
      "0               autisme-homéopathie-antidote vaccins ??\n",
      "1     Quel topique appliquer pour dermatite atopique...\n",
      "2                      traitement kystes avec diane 35?\n",
      "3     je souffre d'insuffisance veineuse (acrocyanos...\n",
      "4     je suis enceinte depuis 1 mois, est ce que les...\n",
      "5                                            triafémi ?\n",
      "6     mon médecin m'a proposé le vaccin gardasil. j'...\n",
      "7     Quels sont les différents conditionnements de ...\n",
      "8     A partir de combien de temps la pilule optilov...\n",
      "9                             du nexplanon à cerazette?\n",
      "10    valider prescription propericiazine + orap, la...\n",
      "11    les macrolides et les pénicillines ont un effe...\n",
      "12    je prend cerazette depuis 1mois et je pense qu...\n",
      "13                      biceptine dans l'oeil , grave ?\n",
      "14    suite a la prise du médicament urobacide (norf...\n",
      "15    je suis sous méthotrexate depuis 6 semaines et...\n",
      "16    bonjour je prends du xyzall avec des gouttes d...\n",
      "17    je prends la pilule depuis bientot un an et j'...\n",
      "18    pilule jasmine - combien de temps attendre pou...\n",
      "19                              C'est quoi le permixon?\n",
      "20    Je prend de l'Oméprazole depuis plus de 2 ans,...\n",
      "21               floxyfral pour soigner les angoisses ?\n",
      "22    Est-ce que le Méthotrexate existe sous forme b...\n",
      "23    Le sulfate de magnésium peut il aider contre l...\n",
      "24    quelle sont les vitamines spéciale grossesse e...\n",
      "25    ma question porte sur le \"testo gel 2%\", un ge...\n",
      "26    il m'a dit que norlévo était efficace même 5 j...\n",
      "27    effet du zithromax , quel délai pour éviter un...\n",
      "28    je souhaiterai connaitre les noms des generiqu...\n",
      "29    Pourquoi le chondroflex est déconseillé quand ...\n",
      "...                                                 ...\n",
      "2005                      Sumatriptan : action rapide ?\n",
      "2006          propranolol et rivotril ?? compatibles ??\n",
      "2007  je prend nuvaring comme contraception, et on n...\n",
      "2008  Une pharmacienne souhaite savoir si elle peut ...\n",
      "2009               Lamictale et grossesse, quel risque?\n",
      "2010                      effexor 75mg : matin ou soir?\n",
      "2011       Que faire en cas d'allergie au rhinureflex ?\n",
      "2012  est-ce normal qu'après 3 semaines de prise de ...\n",
      "2013  est-ce possible que ces hallucinations soient ...\n",
      "2014  je prend alprazolam tout les soirs et finaleme...\n",
      "2015  bonjour, ma gyneco vient de me prescrire ceraz...\n",
      "2016  Peut-on manger du yogourt 2 heures après un an...\n",
      "2017  depuis que j'ai arrêté mon antidépresseur, j'a...\n",
      "2018  peut-on prendre du thé  au lait de soja en mêm...\n",
      "2019                                   compo dt polio ?\n",
      "2020                        vaccin contre la rougeole ?\n",
      "2021                  Levothyrox pendant la grossesse ?\n",
      "2022  Est-ce que je peux donner le tetravac pour un ...\n",
      "2023                       deroxat : durée des effets ?\n",
      "2024  apres un an de traitement sous androcur et pro...\n",
      "2025  Est-ce que le diamicron est remboursé ? À quel...\n",
      "2026  Que faire en cas de douleurs gastriques sous N...\n",
      "2027                              A quoi sert tigreat ?\n",
      "2028                      Pourquoi prendre du deroxat ?\n",
      "2029                 Qu'est ce que le charbon végétal ?\n",
      "2030  La pivalone est elle uttilisable chez la femme...\n",
      "2031  je suis sous traitement depakote 750 depuis pl...\n",
      "2032  est ce que c'est normal d'avoir des règles peu...\n",
      "2033  j'ai été vacciné par l'hépatite b (2 injection...\n",
      "2034                                prozac et xanax..??\n",
      "\n",
      "[2035 rows x 1 columns]\n"
     ]
    }
   ],
   "source": [
    "print pd.DataFrame(dataset['train']['intention'])\n",
    "print pd.DataFrame(dataset['test']['question'])"
   ]
  },
  {
   "cell_type": "markdown",
   "metadata": {},
   "source": [
    "### Explore class balancing"
   ]
  },
  {
   "cell_type": "code",
   "execution_count": 19,
   "metadata": {},
   "outputs": [
    {
     "name": "stdout",
     "output_type": "stream",
     "text": [
      "intent:  51\n"
     ]
    },
    {
     "data": {
      "image/png": "[encoded data removed]",
      "text/plain": [
       "<matplotlib.figure.Figure at 0x7f7e7b6c3610>"
      ]
     },
     "metadata": {},
     "output_type": "display_data"
    }
   ],
   "source": [
    "df = pd.DataFrame(dataset['train']['intention']).astype(float)\n",
    "print 'intent: ', len(df[0].value_counts())\n",
    "\n",
    "df.plot.hist(bins=51)\n",
    "plt.plot([0, 51], [157, 157], 'r--', lw=2)\n",
    "plt.show()"
   ]
  },
  {
   "cell_type": "code",
   "execution_count": 8,
   "metadata": {},
   "outputs": [
    {
     "name": "stdout",
     "output_type": "stream",
     "text": [
      "28    0.223717\n",
      "31    0.070379\n",
      "44    0.069756\n",
      "22    0.057424\n",
      "48    0.048206\n",
      "34    0.047583\n",
      "32    0.039985\n",
      "14    0.039487\n",
      "42    0.039238\n",
      "23    0.025909\n",
      "0     0.025411\n",
      "11    0.024290\n",
      "21    0.022422\n",
      "33    0.017937\n",
      "8     0.016692\n",
      "37    0.015695\n",
      "38    0.014948\n",
      "13    0.014823\n",
      "27    0.012955\n",
      "5     0.012706\n",
      "43    0.011335\n",
      "12    0.011086\n",
      "47    0.010214\n",
      "29    0.009591\n",
      "4     0.009467\n",
      "26    0.008969\n",
      "10    0.008470\n",
      "24    0.007972\n",
      "9     0.006726\n",
      "30    0.006477\n",
      "45    0.006228\n",
      "35    0.006228\n",
      "41    0.005605\n",
      "46    0.005605\n",
      "39    0.004983\n",
      "50    0.004111\n",
      "25    0.003737\n",
      "6     0.003239\n",
      "36    0.003114\n",
      "15    0.002865\n",
      "18    0.002865\n",
      "1     0.002865\n",
      "2     0.002740\n",
      "49    0.002740\n",
      "7     0.002491\n",
      "19    0.002491\n",
      "20    0.002367\n",
      "16    0.002118\n",
      "17    0.001868\n",
      "3     0.000997\n",
      "40    0.000872\n",
      "Name: 0, dtype: float64\n"
     ]
    }
   ],
   "source": [
    "print pd.DataFrame(dataset['train']['intention'])[0].value_counts() / len(dataset['train']['intention'])"
   ]
  },
  {
   "cell_type": "markdown",
   "metadata": {},
   "source": [
    "# Load RCP and components dataset"
   ]
  },
  {
   "cell_type": "code",
   "execution_count": null,
   "metadata": {
    "collapsed": true
   },
   "outputs": [],
   "source": [
    "rcp = {}\n",
    "components = {}\n",
    "with open('data/CIS.txt') as textfile:\n",
    "    lines = map(lambda l: l.strip('\\r\\n').split('\\t'), textfile.readlines())\n",
    "    for line in lines:\n",
    "        code_cis, name = int(line[0]), line[1]\n",
    "        rcp[code_cis] = {\n",
    "            'name': name,\n",
    "            'commercialization': line[-3] == 'Commercialis\\xe9e',\n",
    "            'composition': []\n",
    "        }\n",
    "\n",
    "with open('data/COMPO.txt') as textfile:\n",
    "    lines = map(lambda l: l.strip('\\r\\n').split('\\t'), textfile.readlines())\n",
    "    for line in lines:\n",
    "        code_cis, code_compo, name, type = int(line[0]), int(line[2]), line[3], line[1]\n",
    "        rcp[code_cis]['composition'].append(code_compo)\n",
    "        components[code_compo] = {\n",
    "            'name': name,\n",
    "            'type': type\n",
    "        }"
   ]
  },
  {
   "cell_type": "markdown",
   "metadata": {},
   "source": [
    "### Clean names to only keep drug name"
   ]
  },
  {
   "cell_type": "code",
   "execution_count": null,
   "metadata": {
    "collapsed": true
   },
   "outputs": [],
   "source": [
    "subre = '&|mg|ml|mL|POUR CENT|POUR MILLE|h|heures|g|\\%|UI|U.I.|SANS SUCRE|microgrammes|I.V.|dose|ENFANTS|IM|IR|ENFANTS ET NOURRISSONS|ADULTES|U.CEIP'\n",
    "for cis_code in rcp:\n",
    "    #print rcp[cis_code]['name']\n",
    "    rcp[cis_code]['clean_name'] = rcp[cis_code]['name'].split(' ')[0].strip(' ,')\n",
    "    #print rcp[cis_code]['clean_name']\n",
    "    '''\n",
    "    match = re.match(r\"(([A-Z.\\/ \\(\\)\\-])+)([0-9,. \\/]*(\"+ subre +\")[\\/]*)*, .*\", rcp[cis_code]['name'])\n",
    "    if match:\n",
    "        rcp[cis_code]['clean_name'] = match.group(1).split(' ')[0].strip(' ')\n",
    "        #print rcp[cis_code]['clean_name']\n",
    "    else:\n",
    "        #print rcp[cis_code]['name']\n",
    "        pass\n",
    "    '''"
   ]
  },
  {
   "cell_type": "code",
   "execution_count": null,
   "metadata": {},
   "outputs": [],
   "source": [
    "print rcp[69133501]"
   ]
  },
  {
   "cell_type": "markdown",
   "metadata": {},
   "source": [
    "# Extract and clean sentences"
   ]
  },
  {
   "cell_type": "code",
   "execution_count": null,
   "metadata": {
    "collapsed": true
   },
   "outputs": [],
   "source": [
    "import ftfy\n",
    "import spacy\n",
    "import pickle as pkl\n",
    "from textacy import preprocess_text\n",
    "\n",
    "nlp = spacy.load('fr')"
   ]
  },
  {
   "cell_type": "code",
   "execution_count": null,
   "metadata": {
    "collapsed": true
   },
   "outputs": [],
   "source": [
    "def create_corpus(split):\n",
    "    for idx in range(len(dataset[split]['question'])):\n",
    "        if idx+1 > 20:\n",
    "            pass\n",
    "        if (idx+1) % 100 == 0:\n",
    "            print '{} out of {}'.format(idx+1, len(dataset[split]['question']))\n",
    "\n",
    "        # Preprocess question\n",
    "        question = dataset[split]['question'][idx]\n",
    "        question = preprocess_text(question.decode('utf-8'), fix_unicode=True, no_accents=True, lowercase=True)\n",
    "        tokens = [token.lower_ for token in nlp(question)]\n",
    "        \n",
    "        # Extract intention\n",
    "        if dataset[split].has_key('intention'):\n",
    "            corpus[split]['labels'].append(dataset[split]['intention'][idx])\n",
    "            \n",
    "        # Update corpus with processed texts\n",
    "        corpus[split]['raw_texts'].append(question)\n",
    "        \n",
    "        med_idx = 0\n",
    "        for cis_code in rcp:\n",
    "            if rcp[cis_code].has_key('clean_name') and rcp[cis_code]['commercialization']:\n",
    "                if len(rcp[cis_code]['clean_name']) <= 4:\n",
    "                    continue\n",
    "\n",
    "                _, encoding = ftfy.guess_bytes(rcp[cis_code]['clean_name'])\n",
    "                cis_name = preprocess_text(rcp[cis_code]['clean_name'].decode(encoding),\n",
    "                                           fix_unicode=True, no_accents=True, lowercase=True)\n",
    "\n",
    "                if cis_name in tokens:\n",
    "                    question = question.replace(cis_name, 'MED{}'.format(med_idx))\n",
    "                    tokens.remove(cis_name)\n",
    "                    med_idx += 1\n",
    "        \n",
    "        #print dataset[split]['question'][idx]\n",
    "        #print question\n",
    "\n",
    "        corpus[split]['texts_with_numbered_med'].append(question)\n",
    "        corpus[split]['texts_with_med'].append(re.sub(r'MED[0-9]', u'MED', question))"
   ]
  },
  {
   "cell_type": "code",
   "execution_count": null,
   "metadata": {},
   "outputs": [],
   "source": [
    "corpus = {\n",
    "    'train':{\n",
    "        'labels': [],\n",
    "        'raw_texts': [],\n",
    "        'texts_with_med': [],\n",
    "        'texts_with_numbered_med': []\n",
    "    },\n",
    "    'test':{\n",
    "        'labels': [],\n",
    "        'raw_texts': [],\n",
    "        'texts_with_med': [],\n",
    "        'texts_with_numbered_med': []\n",
    "    },\n",
    "    'rcp': rcp,\n",
    "    'components': components\n",
    "}\n",
    "print 'Test'\n",
    "create_corpus('test')"
   ]
  },
  {
   "cell_type": "code",
   "execution_count": null,
   "metadata": {},
   "outputs": [],
   "source": [
    "print 'Train'\n",
    "create_corpus('train')"
   ]
  },
  {
   "cell_type": "code",
   "execution_count": null,
   "metadata": {
    "collapsed": true
   },
   "outputs": [],
   "source": [
    "pkl.dump(corpus, open('data/corpus.pkl', 'w'))"
   ]
  }
 ],
 "metadata": {
  "kernelspec": {
   "display_name": "Python 2",
   "language": "python",
   "name": "python2"
  },
  "language_info": {
   "codemirror_mode": {
    "name": "ipython",
    "version": 2
   },
   "file_extension": ".py",
   "mimetype": "text/x-python",
   "name": "python",
   "nbconvert_exporter": "python",
   "pygments_lexer": "ipython2",
   "version": "2.7.12"
  }
 },
 "nbformat": 4,
 "nbformat_minor": 2
}
